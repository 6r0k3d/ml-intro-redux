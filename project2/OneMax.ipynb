{
 "cells": [
  {
   "cell_type": "code",
   "execution_count": 2,
   "metadata": {},
   "outputs": [],
   "source": [
    "import mlrose\n",
    "import numpy as np\n",
    "import matplotlib.pyplot as plt"
   ]
  },
  {
   "cell_type": "code",
   "execution_count": 3,
   "metadata": {},
   "outputs": [],
   "source": [
    "fitness = mlrose.OneMax()"
   ]
  },
  {
   "cell_type": "code",
   "execution_count": 83,
   "metadata": {},
   "outputs": [],
   "source": [
    "problem = mlrose.DiscreteOpt(length = 50, fitness_fn = fitness, maximize = True, max_val=2)"
   ]
  },
  {
   "cell_type": "code",
   "execution_count": 84,
   "metadata": {},
   "outputs": [],
   "source": [
    "schedule = mlrose.GeomDecay()"
   ]
  },
  {
   "cell_type": "code",
   "execution_count": 85,
   "metadata": {},
   "outputs": [],
   "source": [
    "init_state = np.zeros(50)"
   ]
  },
  {
   "cell_type": "code",
   "execution_count": 124,
   "metadata": {},
   "outputs": [],
   "source": [
    "best_state, best_fitness, rhc_curve = mlrose.random_hill_climb(problem, \n",
    "                                                      max_attempts = 200,\n",
    "                                                      max_iters = 1000,\n",
    "                                                      restarts = 0,\n",
    "                                                      curve=True,\n",
    "                                                      random_state = 1)"
   ]
  },
  {
   "cell_type": "code",
   "execution_count": 125,
   "metadata": {},
   "outputs": [],
   "source": [
    "best_state, best_fitness, sa_curve = mlrose.simulated_annealing(problem, \n",
    "                                                      schedule=schedule,\n",
    "                                                      max_attempts = 200,\n",
    "                                                      max_iters = 1000,\n",
    "                                                      curve=True,\n",
    "                                                      random_state = 1)"
   ]
  },
  {
   "cell_type": "code",
   "execution_count": 126,
   "metadata": {},
   "outputs": [],
   "source": [
    "best_state, best_fitness, ga_curve = mlrose.genetic_alg(problem, \n",
    "                                                      pop_size=200,\n",
    "                                                      mutation_prob = 0.25,\n",
    "                                                      max_attempts = 50,\n",
    "                                                      max_iters = 1000,\n",
    "                                                      curve=True,\n",
    "                                                      random_state = 1)"
   ]
  },
  {
   "cell_type": "code",
   "execution_count": 127,
   "metadata": {},
   "outputs": [],
   "source": [
    "best_state, best_fitness, mm_curve = mlrose.mimic(problem, \n",
    "                                                      pop_size = 200,\n",
    "                                                      keep_pct = 0.1,\n",
    "                                                      max_attempts=50,\n",
    "                                                      max_iters=1000,\n",
    "                                                      curve=True,\n",
    "                                                      random_state = 1,\n",
    "                                                      fast_mimic=True)"
   ]
  },
  {
   "cell_type": "code",
   "execution_count": 128,
   "metadata": {},
   "outputs": [
    {
     "data": {
      "text/plain": [
       "<matplotlib.legend.Legend at 0x7fd4ba7c8da0>"
      ]
     },
     "execution_count": 128,
     "metadata": {},
     "output_type": "execute_result"
    },
    {
     "data": {
      "image/png": "[encoded data removed]",
      "text/plain": [
       "<Figure size 432x288 with 1 Axes>"
      ]
     },
     "metadata": {
      "needs_background": "light"
     },
     "output_type": "display_data"
    }
   ],
   "source": [
    "plt.title(\"Fitness Curve\")\n",
    "plt.xlabel(\"Iteration\")20. 20. 20. 20. 20. 20. 20. 20. 20. 20. 20.\n",
    " 20. 20. 20. 20. 20. 20. 20. 20. 20. 20. 20. 20. 20. 20. 20. 20. 20. 20.\n",
    " 20. 20. 20. 20. 20. 20. 20. 20. 20. 20. 20. 20. 20. 20. 20. 20. 20. 20.\n",
    " 20. 20. 20. 20. 20. 20. 20. 20. 20. 20. 20. 20. 20. 20. 20. 20. 20. 20.\n",
    " 20. 20. 20. 20. 20. 20. 20. 20. 20. 20. 20. 20. 20. 20. 20. 20. 20. 20.\n",
    " 20. 20. 20. 20. 20. 20. 20. 20. 20. 20. 20. 20. 20. 20. 20. 20. 20. 20.\n",
    " 20. 20. 20. 20. 20. 20. 20. 20. 20. 20. 20. 20. 20. 20. 20. 20. 20. 20.\n",
    " 20. 20. 20. 20. 20. 20. 20. 20. 20. 20. 20. 20. 20. 20. 20. 20. 20. 20.\n",
    " 20. 20. 20. 20. 20. 20. 20. 20. 20. 20. 20. 20. 20. 20. 20. 20. 20. 20.\n",
    " 20. 20. 20. 20. 20. 20. 20. 20. 20. 20. 20. 20. 20. 20. 20. 20. 20. 20.\n",
    " 20. 20. 20. 20. 20. 20. 20. 20. 20. 20. 20. 20. 20. 20. 20. 20. 20. 20.\n",
    " 20. 20. 20. 20. 20. 20. 20. 20. 20. 20.\n",
    "plt.ylabel(\"Fitness\")\n",
    "plt.plot(range(len(rhc_curve)), rhc_curve, label=\"Random Hill Climb\")\n",
    "plt.plot(range(len(sa_curve)), sa_curve, label=\"Simulated Annealing\")\n",
    "plt.plot(range(len(ga_curve)), ga_curve, label=\"Genetic Algorithm\")\n",
    "plt.plot(range(len(mm_curve)), mm_curve, label=\"MIMIC\")\n",
    "plt.legend(loc='best')"
   ]
  },
  {
   "cell_type": "code",
   "execution_count": null,
   "metadata": {},
   "outputs": [],
   "source": []
  }
 ],
 "metadata": {
  "kernelspec": {
   "display_name": "Python 3",
   "language": "python",
   "name": "python3"
  },
  "language_info": {
   "codemirror_mode": {
    "name": "ipython",
    "version": 3
   },
   "file_extension": ".py",
   "mimetype": "text/x-python",
   "name": "python",
   "nbconvert_exporter": "python",
   "pygments_lexer": "ipython3",
   "version": "3.6.8"
  }
 },
 "nbformat": 4,
 "nbformat_minor": 4
}
