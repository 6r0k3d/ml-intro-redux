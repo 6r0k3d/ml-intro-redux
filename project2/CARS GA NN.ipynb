{
 "cells": [
  {
   "cell_type": "code",
   "execution_count": 1,
   "metadata": {},
   "outputs": [
    {
     "name": "stderr",
     "output_type": "stream",
     "text": [
      "/usr/local/lib/python3.6/dist-packages/sklearn/externals/six.py:31: FutureWarning: The module is deprecated in version 0.21 and will be removed in version 0.23 since we've dropped support for Python 2.7. Please rely on the official version of six (https://pypi.org/project/six/).\n",
      "  \"(https://pypi.org/project/six/).\", FutureWarning)\n"
     ]
    }
   ],
   "source": [
    "import mlrose\n",
    "import numpy as np\n",
    "import pandas as pd\n",
    "import matplotlib.pyplot as plt\n",
    "\n",
    "from sklearn import metrics\n",
    "from sklearn.preprocessing import OneHotEncoder\n",
    "from sklearn.model_selection import validation_curve\n",
    "from sklearn.model_selection import learning_curve\n",
    "from sklearn.model_selection import GridSearchCV\n",
    "from sklearn.model_selection import train_test_split\n",
    "\n",
    "%matplotlib inline"
   ]
  },
  {
   "cell_type": "code",
   "execution_count": 2,
   "metadata": {},
   "outputs": [],
   "source": [
    "cars_flag = True\n",
    "if cars_flag:\n",
    "    src = '../cars/car.data'\n",
    "    import warnings\n",
    "    warnings.filterwarnings(action='ignore', category=DeprecationWarning)\n",
    "else:\n",
    "    src = '../adult/data.txt'\n",
    "data = pd.read_csv(src, index_col=0)"
   ]
  },
  {
   "cell_type": "code",
   "execution_count": 3,
   "metadata": {},
   "outputs": [
    {
     "data": {
      "text/html": [
       "<div>\n",
       "<style scoped>\n",
       "    .dataframe tbody tr th:only-of-type {\n",
       "        vertical-align: middle;\n",
       "    }\n",
       "\n",
       "    .dataframe tbody tr th {\n",
       "        vertical-align: top;\n",
       "    }\n",
       "\n",
       "    .dataframe thead th {\n",
       "        text-align: right;\n",
       "    }\n",
       "</style>\n",
       "<table border=\"1\" class=\"dataframe\">\n",
       "  <thead>\n",
       "    <tr style=\"text-align: right;\">\n",
       "      <th></th>\n",
       "      <th>buying</th>\n",
       "      <th>maint</th>\n",
       "      <th>doors</th>\n",
       "      <th>persons</th>\n",
       "      <th>lug_boot</th>\n",
       "      <th>safety</th>\n",
       "      <th>class</th>\n",
       "    </tr>\n",
       "  </thead>\n",
       "  <tbody>\n",
       "    <tr>\n",
       "      <th>0</th>\n",
       "      <td>vhigh</td>\n",
       "      <td>vhigh</td>\n",
       "      <td>2</td>\n",
       "      <td>2</td>\n",
       "      <td>small</td>\n",
       "      <td>low</td>\n",
       "      <td>unacc</td>\n",
       "    </tr>\n",
       "    <tr>\n",
       "      <th>1</th>\n",
       "      <td>vhigh</td>\n",
       "      <td>vhigh</td>\n",
       "      <td>2</td>\n",
       "      <td>2</td>\n",
       "      <td>small</td>\n",
       "      <td>med</td>\n",
       "      <td>unacc</td>\n",
       "    </tr>\n",
       "    <tr>\n",
       "      <th>2</th>\n",
       "      <td>vhigh</td>\n",
       "      <td>vhigh</td>\n",
       "      <td>2</td>\n",
       "      <td>2</td>\n",
       "      <td>small</td>\n",
       "      <td>high</td>\n",
       "      <td>unacc</td>\n",
       "    </tr>\n",
       "    <tr>\n",
       "      <th>3</th>\n",
       "      <td>vhigh</td>\n",
       "      <td>vhigh</td>\n",
       "      <td>2</td>\n",
       "      <td>2</td>\n",
       "      <td>med</td>\n",
       "      <td>low</td>\n",
       "      <td>unacc</td>\n",
       "    </tr>\n",
       "    <tr>\n",
       "      <th>4</th>\n",
       "      <td>vhigh</td>\n",
       "      <td>vhigh</td>\n",
       "      <td>2</td>\n",
       "      <td>2</td>\n",
       "      <td>med</td>\n",
       "      <td>med</td>\n",
       "      <td>unacc</td>\n",
       "    </tr>\n",
       "  </tbody>\n",
       "</table>\n",
       "</div>"
      ],
      "text/plain": [
       "  buying  maint doors persons lug_boot safety  class\n",
       "0  vhigh  vhigh     2       2    small    low  unacc\n",
       "1  vhigh  vhigh     2       2    small    med  unacc\n",
       "2  vhigh  vhigh     2       2    small   high  unacc\n",
       "3  vhigh  vhigh     2       2      med    low  unacc\n",
       "4  vhigh  vhigh     2       2      med    med  unacc"
      ]
     },
     "execution_count": 3,
     "metadata": {},
     "output_type": "execute_result"
    }
   ],
   "source": [
    "data.head()"
   ]
  },
  {
   "cell_type": "code",
   "execution_count": 4,
   "metadata": {},
   "outputs": [],
   "source": [
    "from sklearn.preprocessing import LabelEncoder\n",
    "le=LabelEncoder()"
   ]
  },
  {
   "cell_type": "code",
   "execution_count": 5,
   "metadata": {},
   "outputs": [],
   "source": [
    "# Set data set specific settings for template\n",
    "\n",
    "mappings = {}\n",
    "cols = ['workclass', 'education', 'marital-status', 'occupation', 'relationship', 'race', 'sex','native-country', 'class']\n",
    "if cars_flag:\n",
    "    scoring = metrics.make_scorer(metrics.matthews_corrcoef)    \n",
    "    for i in data.columns:\n",
    "        data[i]=le.fit_transform(data[i])\n",
    "        mappings[i] = list(le.classes_)\n",
    "else:\n",
    "    scoring = 'accuracy'    \n",
    "    for i in cols:\n",
    "        data[i]=le.fit_transform(data[i])\n",
    "        mappings[i] = list(le.classes_)"
   ]
  },
  {
   "cell_type": "code",
   "execution_count": 6,
   "metadata": {},
   "outputs": [
    {
     "data": {
      "text/plain": [
       "{'buying': ['high', 'low', 'med', 'vhigh'],\n",
       " 'maint': ['high', 'low', 'med', 'vhigh'],\n",
       " 'doors': ['2', '3', '4', '5more'],\n",
       " 'persons': ['2', '4', 'more'],\n",
       " 'lug_boot': ['big', 'med', 'small'],\n",
       " 'safety': ['high', 'low', 'med'],\n",
       " 'class': ['acc', 'good', 'unacc', 'vgood']}"
      ]
     },
     "execution_count": 6,
     "metadata": {},
     "output_type": "execute_result"
    }
   ],
   "source": [
    "mappings"
   ]
  },
  {
   "cell_type": "code",
   "execution_count": 7,
   "metadata": {},
   "outputs": [],
   "source": [
    "one_hot = OneHotEncoder(sparse=False, dtype=np.int)"
   ]
  },
  {
   "cell_type": "code",
   "execution_count": 8,
   "metadata": {},
   "outputs": [],
   "source": [
    "X = data.loc[:,data.columns != 'class']\n",
    "y = data.iloc[:,-1]"
   ]
  },
  {
   "cell_type": "code",
   "execution_count": 9,
   "metadata": {},
   "outputs": [],
   "source": [
    "X_train, X_test, y_train, y_test = train_test_split(X, y, test_size=0.2)"
   ]
  },
  {
   "cell_type": "code",
   "execution_count": 10,
   "metadata": {},
   "outputs": [
    {
     "data": {
      "text/plain": [
       "(1382, 6)"
      ]
     },
     "execution_count": 10,
     "metadata": {},
     "output_type": "execute_result"
    }
   ],
   "source": [
    "X_train.shape"
   ]
  },
  {
   "cell_type": "code",
   "execution_count": 11,
   "metadata": {},
   "outputs": [],
   "source": [
    "X_train_hot = one_hot.fit_transform(X_train)\n",
    "X_test_hot = one_hot.fit_transform(X_test)\n",
    "y_train_hot = one_hot.fit_transform(y_train.values.reshape(-1,1))\n",
    "y_test_hot = one_hot.fit_transform(y_test.values.reshape(-1,1))"
   ]
  },
  {
   "cell_type": "code",
   "execution_count": 12,
   "metadata": {},
   "outputs": [
    {
     "name": "stdout",
     "output_type": "stream",
     "text": [
      "(1382, 21) (346, 21) (1382, 4) (346, 4)\n"
     ]
    }
   ],
   "source": [
    "print(X_train_hot.shape,\n",
    "X_test_hot.shape,\n",
    "y_train_hot.shape,\n",
    "y_test_hot.shape)"
   ]
  },
  {
   "cell_type": "code",
   "execution_count": 13,
   "metadata": {},
   "outputs": [],
   "source": [
    "clf = mlrose.NeuralNetwork(hidden_nodes = [150,150],\n",
    "                           activation = 'relu',\n",
    "                           algorithm = 'genetic_alg',\n",
    "                           max_iters = 2000,\n",
    "                           bias = True,\n",
    "                           is_classifier = True,\n",
    "                           learning_rate = 0.0001,\n",
    "                           early_stopping = True,\n",
    "                           clip_max = 5,\n",
    "                           pop_size = 200,\n",
    "                           mutation_prob = 0.1,\n",
    "                           max_attempts = 100,\n",
    "                           random_state = 1,\n",
    "                           curve = True)"
   ]
  },
  {
   "cell_type": "code",
   "execution_count": 14,
   "metadata": {},
   "outputs": [
    {
     "data": {
      "text/plain": [
       "NeuralNetwork(bias=True, clip_max=5, early_stopping=True,\n",
       "              hidden_nodes=[150, 150], is_classifier=True, learning_rate=0.0001,\n",
       "              max_iters=2000, mutation_prob=0.1, pop_size=200, restarts=0,\n",
       "              schedule=<mlrose.decay.GeomDecay object at 0x7f1f2c5d4390>)"
      ]
     },
     "execution_count": 14,
     "metadata": {},
     "output_type": "execute_result"
    }
   ],
   "source": [
    "clf.fit(X_train_hot, y_train_hot)"
   ]
  },
  {
   "cell_type": "code",
   "execution_count": 15,
   "metadata": {},
   "outputs": [
    {
     "data": {
      "text/plain": [
       "<matplotlib.legend.Legend at 0x7f1f216f7860>"
      ]
     },
     "execution_count": 15,
     "metadata": {},
     "output_type": "execute_result"
    },
    {
     "data": {
      "image/png": "[encoded data removed]",
      "text/plain": [
       "<Figure size 432x288 with 1 Axes>"
      ]
     },
     "metadata": {
      "needs_background": "light"
     },
     "output_type": "display_data"
    }
   ],
   "source": [
    "plt.title(\"Fitness Curve\")\n",
    "plt.xlabel(\"Iteration\")\n",
    "plt.ylabel(\"Fitness\")\n",
    "plt.plot(range(len(clf.fitness_curve)), \n",
    "         clf.fitness_curve, \n",
    "         label=\"Genetic Algorithm\")\n",
    "plt.legend(loc='best')"
   ]
  },
  {
   "cell_type": "code",
   "execution_count": 16,
   "metadata": {},
   "outputs": [],
   "source": [
    "y_train_pred = clf.predict(X_train_hot)\n",
    "y_test_pred = clf.predict(X_test_hot)"
   ]
  },
  {
   "cell_type": "code",
   "execution_count": 17,
   "metadata": {},
   "outputs": [
    {
     "name": "stdout",
     "output_type": "stream",
     "text": [
      "0.11787488554993111\n",
      "0.020787525140810496\n"
     ]
    }
   ],
   "source": [
    "print(metrics.matthews_corrcoef(y_train_hot.argmax(axis=1),\n",
    "                                y_train_pred.argmax(axis=1)))\n",
    "\n",
    "print(metrics.matthews_corrcoef(y_test_hot.argmax(axis=1),\n",
    "                                y_test_pred.argmax(axis=1)))"
   ]
  },
  {
   "cell_type": "code",
   "execution_count": 18,
   "metadata": {},
   "outputs": [],
   "source": [
    "clf = mlrose.NeuralNetwork(hidden_nodes = [150,150],\n",
    "                           activation = 'relu',\n",
    "                           algorithm = 'genetic_alg',\n",
    "                           max_iters = 2000,\n",
    "                           bias = True,\n",
    "                           is_classifier = True,\n",
    "                           learning_rate = 0.0001,\n",
    "                           early_stopping = True,\n",
    "                           clip_max = 5,\n",
    "                           pop_size = 600,\n",
    "                           mutation_prob = 0.15,\n",
    "                           max_attempts = 100,\n",
    "                           random_state = 1,\n",
    "                           curve = True)"
   ]
  },
  {
   "cell_type": "code",
   "execution_count": 19,
   "metadata": {},
   "outputs": [
    {
     "data": {
      "text/plain": [
       "NeuralNetwork(bias=True, clip_max=5, early_stopping=True,\n",
       "              hidden_nodes=[150, 150], is_classifier=True, learning_rate=0.0001,\n",
       "              max_iters=2000, mutation_prob=0.15, pop_size=600, restarts=0,\n",
       "              schedule=<mlrose.decay.GeomDecay object at 0x7f1f2c5d4390>)"
      ]
     },
     "execution_count": 19,
     "metadata": {},
     "output_type": "execute_result"
    }
   ],
   "source": [
    "clf.fit(X_train_hot, y_train_hot)"
   ]
  },
  {
   "cell_type": "code",
   "execution_count": 20,
   "metadata": {},
   "outputs": [
    {
     "data": {
      "text/plain": [
       "<matplotlib.legend.Legend at 0x7f1f21033d68>"
      ]
     },
     "execution_count": 20,
     "metadata": {},
     "output_type": "execute_result"
    },
    {
     "data": {
      "image/png": "[encoded data removed]",
      "text/plain": [
       "<Figure size 432x288 with 1 Axes>"
      ]
     },
     "metadata": {
      "needs_background": "light"
     },
     "output_type": "display_data"
    }
   ],
   "source": [
    "plt.title(\"Fitness Curve\")\n",
    "plt.xlabel(\"Iteration\")\n",
    "plt.ylabel(\"Fitness\")\n",
    "plt.plot(range(len(clf.fitness_curve)), \n",
    "         clf.fitness_curve, \n",
    "         label=\"Genetic Algorithm\")\n",
    "plt.legend(loc='best')"
   ]
  },
  {
   "cell_type": "code",
   "execution_count": 21,
   "metadata": {},
   "outputs": [],
   "source": [
    "y_train_pred = clf.predict(X_train_hot)\n",
    "y_test_pred = clf.predict(X_test_hot)"
   ]
  },
  {
   "cell_type": "code",
   "execution_count": 22,
   "metadata": {},
   "outputs": [
    {
     "name": "stdout",
     "output_type": "stream",
     "text": [
      "0.20263195094392072\n",
      "0.2034309533018479\n"
     ]
    }
   ],
   "source": [
    "print(metrics.matthews_corrcoef(y_train_hot.argmax(axis=1),\n",
    "                                y_train_pred.argmax(axis=1)))\n",
    "\n",
    "print(metrics.matthews_corrcoef(y_test_hot.argmax(axis=1),\n",
    "                                y_test_pred.argmax(axis=1)))"
   ]
  },
  {
   "cell_type": "code",
   "execution_count": 23,
   "metadata": {},
   "outputs": [],
   "source": [
    "clf = mlrose.NeuralNetwork(hidden_nodes = [150,150],\n",
    "                           activation = 'relu',\n",
    "                           algorithm = 'genetic_alg',\n",
    "                           max_iters = 2000,\n",
    "                           bias = True,\n",
    "                           is_classifier = True,\n",
    "                           learning_rate = 0.0001,\n",
    "                           early_stopping = True,\n",
    "                           clip_max = 5,\n",
    "                           pop_size = 400,\n",
    "                           mutation_prob = 0.1,\n",
    "                           max_attempts = 100,\n",
    "                           random_state = 1,\n",
    "                           curve = True)"
   ]
  },
  {
   "cell_type": "code",
   "execution_count": 24,
   "metadata": {},
   "outputs": [
    {
     "data": {
      "text/plain": [
       "NeuralNetwork(bias=True, clip_max=5, early_stopping=True,\n",
       "              hidden_nodes=[150, 150], is_classifier=True, learning_rate=0.0001,\n",
       "              max_iters=2000, mutation_prob=0.1, pop_size=400, restarts=0,\n",
       "              schedule=<mlrose.decay.GeomDecay object at 0x7f1f2c5d4390>)"
      ]
     },
     "execution_count": 24,
     "metadata": {},
     "output_type": "execute_result"
    }
   ],
   "source": [
    "clf.fit(X_train_hot, y_train_hot)"
   ]
  },
  {
   "cell_type": "code",
   "execution_count": 25,
   "metadata": {},
   "outputs": [
    {
     "data": {
      "text/plain": [
       "<matplotlib.legend.Legend at 0x7f1f20fa6128>"
      ]
     },
     "execution_count": 25,
     "metadata": {},
     "output_type": "execute_result"
    },
    {
     "data": {
      "image/png": "[encoded data removed]",
      "text/plain": [
       "<Figure size 432x288 with 1 Axes>"
      ]
     },
     "metadata": {
      "needs_background": "light"
     },
     "output_type": "display_data"
    }
   ],
   "source": [
    "plt.title(\"Fitness Curve\")\n",
    "plt.xlabel(\"Iteration\")\n",
    "plt.ylabel(\"Fitness\")\n",
    "plt.plot(range(len(clf.fitness_curve)), \n",
    "         clf.fitness_curve, \n",
    "         label=\"Genetic Algorithm\")\n",
    "plt.legend(loc='best')"
   ]
  },
  {
   "cell_type": "code",
   "execution_count": 31,
   "metadata": {},
   "outputs": [],
   "source": [
    "y_train_pred = clf.predict(X_train_hot)\n",
    "y_test_pred = clf.predict(X_test_hot)"
   ]
  },
  {
   "cell_type": "code",
   "execution_count": 32,
   "metadata": {},
   "outputs": [
    {
     "name": "stdout",
     "output_type": "stream",
     "text": [
      "0.02538918428332063\n",
      "0.03814171848819721\n"
     ]
    }
   ],
   "source": [
    "print(metrics.matthews_corrcoef(y_train_hot.argmax(axis=1),\n",
    "                                y_train_pred.argmax(axis=1)))\n",
    "\n",
    "print(metrics.matthews_corrcoef(y_test_hot.argmax(axis=1),\n",
    "                                y_test_pred.argmax(axis=1)))"
   ]
  },
  {
   "cell_type": "code",
   "execution_count": 33,
   "metadata": {},
   "outputs": [],
   "source": [
    "clf = mlrose.NeuralNetwork(hidden_nodes = [150,150],\n",
    "                           activation = 'relu',\n",
    "                           algorithm = 'genetic_alg',\n",
    "                           max_iters = 2000,\n",
    "                           bias = True,\n",
    "                           is_classifier = True,\n",
    "                           learning_rate = 0.0001,\n",
    "                           early_stopping = True,\n",
    "                           clip_max = 5,\n",
    "                           pop_size = 200,\n",
    "                           mutation_prob = 0.1,\n",
    "                           max_attempts = 100,\n",
    "                           random_state = 1,\n",
    "                           curve = True)"
   ]
  },
  {
   "cell_type": "code",
   "execution_count": 34,
   "metadata": {},
   "outputs": [
    {
     "data": {
      "text/plain": [
       "NeuralNetwork(bias=False, clip_max=10, early_stopping=True,\n",
       "              hidden_nodes=[150, 150], is_classifier=True, learning_rate=0.0001,\n",
       "              max_iters=10000, mutation_prob=0.1, pop_size=200, restarts=0,\n",
       "              schedule=<mlrose.decay.GeomDecay object at 0x7f5de9f1b358>)"
      ]
     },
     "execution_count": 34,
     "metadata": {},
     "output_type": "execute_result"
    }
   ],
   "source": [
    "clf.fit(X_train_hot, y_train_hot)"
   ]
  },
  {
   "cell_type": "code",
   "execution_count": 35,
   "metadata": {},
   "outputs": [
    {
     "data": {
      "text/plain": [
       "<matplotlib.legend.Legend at 0x7f5dde70b5f8>"
      ]
     },
     "execution_count": 35,
     "metadata": {},
     "output_type": "execute_result"
    },
    {
     "data": {
      "image/png": "[encoded data removed]",
      "text/plain": [
       "<Figure size 432x288 with 1 Axes>"
      ]
     },
     "metadata": {
      "needs_background": "light"
     },
     "output_type": "display_data"
    }
   ],
   "source": [
    "plt.title(\"Fitness Curve\")\n",
    "plt.xlabel(\"Iteration\")\n",
    "plt.ylabel(\"Fitness\")\n",
    "plt.plot(range(len(clf.fitness_curve)), \n",
    "         clf.fitness_curve, \n",
    "         label=\"Genetic Algorithm\")\n",
    "plt.legend(loc='best')"
   ]
  },
  {
   "cell_type": "code",
   "execution_count": 36,
   "metadata": {},
   "outputs": [],
   "source": [
    "y_train_pred = clf.predict(X_train_hot)\n",
    "y_test_pred = clf.predict(X_test_hot)"
   ]
  },
  {
   "cell_type": "code",
   "execution_count": 37,
   "metadata": {},
   "outputs": [
    {
     "name": "stdout",
     "output_type": "stream",
     "text": [
      "-0.03318877252895394\n",
      "-0.017621244721515678\n"
     ]
    }
   ],
   "source": [
    "print(metrics.matthews_corrcoef(y_train_hot.argmax(axis=1),\n",
    "                                y_train_pred.argmax(axis=1)))\n",
    "\n",
    "print(metrics.matthews_corrcoef(y_test_hot.argmax(axis=1),\n",
    "                                y_test_pred.argmax(axis=1)))"
   ]
  },
  {
   "cell_type": "code",
   "execution_count": 43,
   "metadata": {},
   "outputs": [],
   "source": [
    "clf = mlrose.NeuralNetwork(hidden_nodes = [150,150],\n",
    "                           activation = 'relu',\n",
    "                           algorithm = 'genetic_alg',\n",
    "                           max_iters = 2000,\n",
    "                           bias = True,\n",
    "                           is_classifier = True,\n",
    "                           learning_rate = 0.0001,\n",
    "                           early_stopping = True,\n",
    "                           clip_max = 5,\n",
    "                           pop_size = 200,\n",
    "                           mutation_prob = 0.1,\n",
    "                           max_attempts = 100,\n",
    "                           random_state = 1,\n",
    "                           curve = True)"
   ]
  },
  {
   "cell_type": "code",
   "execution_count": 44,
   "metadata": {},
   "outputs": [
    {
     "data": {
      "text/plain": [
       "NeuralNetwork(bias=True, clip_max=10, early_stopping=True,\n",
       "              hidden_nodes=[150, 150], is_classifier=True, learning_rate=0.001,\n",
       "              max_iters=10000, mutation_prob=0.1, pop_size=200, restarts=0,\n",
       "              schedule=<mlrose.decay.GeomDecay object at 0x7f5de9f1b358>)"
      ]
     },
     "execution_count": 44,
     "metadata": {},
     "output_type": "execute_result"
    }
   ],
   "source": [
    "clf.fit(X_train_hot, y_train_hot)"
   ]
  },
  {
   "cell_type": "code",
   "execution_count": 45,
   "metadata": {},
   "outputs": [
    {
     "data": {
      "text/plain": [
       "<matplotlib.legend.Legend at 0x7f5dde655908>"
      ]
     },
     "execution_count": 45,
     "metadata": {},
     "output_type": "execute_result"
    },
    {
     "data": {
      "image/png": "[encoded data removed]",
      "text/plain": [
       "<Figure size 432x288 with 1 Axes>"
      ]
     },
     "metadata": {
      "needs_background": "light"
     },
     "output_type": "display_data"
    }
   ],
   "source": [
    "plt.title(\"Fitness Curve\")\n",
    "plt.xlabel(\"Iteration\")\n",
    "plt.ylabel(\"Fitness\")\n",
    "plt.plot(range(len(clf.fitness_curve)), \n",
    "         clf.fitness_curve, \n",
    "         label=\"Genetic Algorithm\")\n",
    "plt.legend(loc='best')"
   ]
  },
  {
   "cell_type": "code",
   "execution_count": 46,
   "metadata": {},
   "outputs": [],
   "source": [
    "y_train_pred = clf.predict(X_train_hot)\n",
    "y_test_pred = clf.predict(X_test_hot)"
   ]
  },
  {
   "cell_type": "code",
   "execution_count": 47,
   "metadata": {},
   "outputs": [
    {
     "name": "stdout",
     "output_type": "stream",
     "text": [
      "0.02447985652357187\n",
      "0.03814171848819721\n"
     ]
    }
   ],
   "source": [
    "print(metrics.matthews_corrcoef(y_train_hot.argmax(axis=1),\n",
    "                                y_train_pred.argmax(axis=1)))\n",
    "\n",
    "print(metrics.matthews_corrcoef(y_test_hot.argmax(axis=1),\n",
    "                                y_test_pred.argmax(axis=1)))"
   ]
  },
  {
   "cell_type": "code",
   "execution_count": null,
   "metadata": {},
   "outputs": [],
   "source": [
    "# Learning Curve\n",
    "train_sizes= [0.1, 0.2, 0.4, 0.6, 0.8]\n",
    "\n",
    "clf = mlrose.NeuralNetwork(hidden_nodes = [150,150],\n",
    "                           activation = 'relu',\n",
    "                           algorithm = 'genetic_alg',\n",
    "                           max_iters = 2000,\n",
    "                           bias = True,\n",
    "                           is_classifier = True,\n",
    "                           learning_rate = 0.0001,\n",
    "                           early_stopping = True,\n",
    "                           clip_max = 5,\n",
    "                           pop_size = 200,\n",
    "                           mutation_prob = 0.1,\n",
    "                           max_attempts = 100,\n",
    "                           random_state = 1,\n",
    "                           curve = True)\n",
    "\n",
    "train_scores = []\n",
    "test_scores = []\n",
    "for x in train_sizes:\n",
    "    X_train_lc, X_test_lc, y_train_lc, y_test_lc = train_test_split(X_train_hot,\n",
    "                                                                    y_train_hot,\n",
    "                                                                    test_size=0.2,\n",
    "                                                                    train_size=x,\n",
    "                                                                    random_state = 1)\n",
    "    clf.fit(X_train_lc, y_train_lc)\n",
    "    y_train_pred = clf.predict(X_train_lc)\n",
    "    y_test_pred = clf.predict(X_test_lc)\n",
    "    train_scores.append(metrics.matthews_corrcoef(y_train_lc.argmax(axis=1),\n",
    "                                                  y_train_pred.argmax(axis=1)))\n",
    "\n",
    "    test_scores.append(metrics.matthews_corrcoef(y_test_lc.argmax(axis=1),\n",
    "                                                 y_test_pred.argmax(axis=1)))"
   ]
  },
  {
   "cell_type": "code",
   "execution_count": null,
   "metadata": {},
   "outputs": [],
   "source": [
    "train_amount = [x * X_train_hot.shape[0] for x in train_sizes]"
   ]
  },
  {
   "cell_type": "code",
   "execution_count": null,
   "metadata": {},
   "outputs": [],
   "source": [
    "plt.title(\"CARS NN Learning Curves\")\n",
    "plt.xlabel(\"Training Size\")\n",
    "plt.ylabel(\"MCC\")\n",
    "plt.plot(train_amount, train_scores, label=\"Train\")\n",
    "plt.plot(train_amount, test_scores, label=\"Test\")\n",
    "plt.legend(loc='best')"
   ]
  }
 ],
 "metadata": {
  "kernelspec": {
   "display_name": "Python 3",
   "language": "python",
   "name": "python3"
  },
  "language_info": {
   "codemirror_mode": {
    "name": "ipython",
    "version": 3
   },
   "file_extension": ".py",
   "mimetype": "text/x-python",
   "name": "python",
   "nbconvert_exporter": "python",
   "pygments_lexer": "ipython3",
   "version": "3.6.9"
  }
 },
 "nbformat": 4,
 "nbformat_minor": 4
}
