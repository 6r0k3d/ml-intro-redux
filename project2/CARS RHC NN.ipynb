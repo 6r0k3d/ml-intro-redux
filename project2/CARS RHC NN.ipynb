{
 "cells": [
  {
   "cell_type": "code",
   "execution_count": 32,
   "metadata": {},
   "outputs": [],
   "source": [
    "import mlrose\n",
    "import numpy as np\n",
    "import pandas as pd\n",
    "import matplotlib.pyplot as plt\n",
    "\n",
    "from sklearn import metrics\n",
    "from sklearn.preprocessing import OneHotEncoder\n",
    "from sklearn.model_selection import validation_curve\n",
    "from sklearn.model_selection import learning_curve\n",
    "from sklearn.model_selection import GridSearchCV\n",
    "from sklearn.model_selection import train_test_split\n",
    "\n",
    "%matplotlib inline"
   ]
  },
  {
   "cell_type": "code",
   "execution_count": 299,
   "metadata": {},
   "outputs": [],
   "source": [
    "cars_flag = True\n",
    "if cars_flag:\n",
    "    src = '../cars/car.data'\n",
    "    import warnings\n",
    "    warnings.filterwarnings(action='ignore', category=DeprecationWarning)\n",
    "else:\n",
    "    src = '../adult/data.txt'\n",
    "data = pd.read_csv(src, index_col=0)"
   ]
  },
  {
   "cell_type": "code",
   "execution_count": 300,
   "metadata": {},
   "outputs": [
    {
     "data": {
      "text/html": [
       "<div>\n",
       "<style scoped>\n",
       "    .dataframe tbody tr th:only-of-type {\n",
       "        vertical-align: middle;\n",
       "    }\n",
       "\n",
       "    .dataframe tbody tr th {\n",
       "        vertical-align: top;\n",
       "    }\n",
       "\n",
       "    .dataframe thead th {\n",
       "        text-align: right;\n",
       "    }\n",
       "</style>\n",
       "<table border=\"1\" class=\"dataframe\">\n",
       "  <thead>\n",
       "    <tr style=\"text-align: right;\">\n",
       "      <th></th>\n",
       "      <th>buying</th>\n",
       "      <th>maint</th>\n",
       "      <th>doors</th>\n",
       "      <th>persons</th>\n",
       "      <th>lug_boot</th>\n",
       "      <th>safety</th>\n",
       "      <th>class</th>\n",
       "    </tr>\n",
       "  </thead>\n",
       "  <tbody>\n",
       "    <tr>\n",
       "      <th>0</th>\n",
       "      <td>vhigh</td>\n",
       "      <td>vhigh</td>\n",
       "      <td>2</td>\n",
       "      <td>2</td>\n",
       "      <td>small</td>\n",
       "      <td>low</td>\n",
       "      <td>unacc</td>\n",
       "    </tr>\n",
       "    <tr>\n",
       "      <th>1</th>\n",
       "      <td>vhigh</td>\n",
       "      <td>vhigh</td>\n",
       "      <td>2</td>\n",
       "      <td>2</td>\n",
       "      <td>small</td>\n",
       "      <td>med</td>\n",
       "      <td>unacc</td>\n",
       "    </tr>\n",
       "    <tr>\n",
       "      <th>2</th>\n",
       "      <td>vhigh</td>\n",
       "      <td>vhigh</td>\n",
       "      <td>2</td>\n",
       "      <td>2</td>\n",
       "      <td>small</td>\n",
       "      <td>high</td>\n",
       "      <td>unacc</td>\n",
       "    </tr>\n",
       "    <tr>\n",
       "      <th>3</th>\n",
       "      <td>vhigh</td>\n",
       "      <td>vhigh</td>\n",
       "      <td>2</td>\n",
       "      <td>2</td>\n",
       "      <td>med</td>\n",
       "      <td>low</td>\n",
       "      <td>unacc</td>\n",
       "    </tr>\n",
       "    <tr>\n",
       "      <th>4</th>\n",
       "      <td>vhigh</td>\n",
       "      <td>vhigh</td>\n",
       "      <td>2</td>\n",
       "      <td>2</td>\n",
       "      <td>med</td>\n",
       "      <td>med</td>\n",
       "      <td>unacc</td>\n",
       "    </tr>\n",
       "  </tbody>\n",
       "</table>\n",
       "</div>"
      ],
      "text/plain": [
       "  buying  maint doors persons lug_boot safety  class\n",
       "0  vhigh  vhigh     2       2    small    low  unacc\n",
       "1  vhigh  vhigh     2       2    small    med  unacc\n",
       "2  vhigh  vhigh     2       2    small   high  unacc\n",
       "3  vhigh  vhigh     2       2      med    low  unacc\n",
       "4  vhigh  vhigh     2       2      med    med  unacc"
      ]
     },
     "execution_count": 300,
     "metadata": {},
     "output_type": "execute_result"
    }
   ],
   "source": [
    "data.head()"
   ]
  },
  {
   "cell_type": "code",
   "execution_count": 301,
   "metadata": {},
   "outputs": [],
   "source": [
    "from sklearn.preprocessing import LabelEncoder\n",
    "le=LabelEncoder()"
   ]
  },
  {
   "cell_type": "code",
   "execution_count": 302,
   "metadata": {},
   "outputs": [],
   "source": [
    "# Set data set specific settings for template\n",
    "\n",
    "mappings = {}\n",
    "cols = ['workclass', 'education', 'marital-status', 'occupation', 'relationship', 'race', 'sex','native-country', 'class']\n",
    "if cars_flag:\n",
    "    scoring = metrics.make_scorer(metrics.matthews_corrcoef)    \n",
    "    for i in data.columns:\n",
    "        data[i]=le.fit_transform(data[i])\n",
    "        mappings[i] = list(le.classes_)\n",
    "else:\n",
    "    scoring = 'accuracy'    \n",
    "    for i in cols:\n",
    "        data[i]=le.fit_transform(data[i])\n",
    "        mappings[i] = list(le.classes_)"
   ]
  },
  {
   "cell_type": "code",
   "execution_count": 303,
   "metadata": {},
   "outputs": [
    {
     "data": {
      "text/plain": [
       "{'buying': ['high', 'low', 'med', 'vhigh'],\n",
       " 'maint': ['high', 'low', 'med', 'vhigh'],\n",
       " 'doors': ['2', '3', '4', '5more'],\n",
       " 'persons': ['2', '4', 'more'],\n",
       " 'lug_boot': ['big', 'med', 'small'],\n",
       " 'safety': ['high', 'low', 'med'],\n",
       " 'class': ['acc', 'good', 'unacc', 'vgood']}"
      ]
     },
     "execution_count": 303,
     "metadata": {},
     "output_type": "execute_result"
    }
   ],
   "source": [
    "mappings"
   ]
  },
  {
   "cell_type": "code",
   "execution_count": 304,
   "metadata": {},
   "outputs": [],
   "source": [
    "one_hot = OneHotEncoder(sparse=False, dtype=np.int)"
   ]
  },
  {
   "cell_type": "code",
   "execution_count": 305,
   "metadata": {},
   "outputs": [],
   "source": [
    "X = data.loc[:,data.columns != 'class']\n",
    "y = data.iloc[:,-1]"
   ]
  },
  {
   "cell_type": "code",
   "execution_count": 306,
   "metadata": {},
   "outputs": [],
   "source": [
    "X_train, X_test, y_train, y_test = train_test_split(X, y, test_size=0.2)"
   ]
  },
  {
   "cell_type": "code",
   "execution_count": 307,
   "metadata": {},
   "outputs": [
    {
     "data": {
      "text/plain": [
       "(1382, 6)"
      ]
     },
     "execution_count": 307,
     "metadata": {},
     "output_type": "execute_result"
    }
   ],
   "source": [
    "X_train.shape"
   ]
  },
  {
   "cell_type": "code",
   "execution_count": 308,
   "metadata": {},
   "outputs": [],
   "source": [
    "X_train_hot = one_hot.fit_transform(X_train)\n",
    "X_test_hot = one_hot.fit_transform(X_test)\n",
    "y_train_hot = one_hot.fit_transform(y_train.values.reshape(-1,1))\n",
    "y_test_hot = one_hot.fit_transform(y_test.values.reshape(-1,1))"
   ]
  },
  {
   "cell_type": "code",
   "execution_count": 309,
   "metadata": {},
   "outputs": [
    {
     "name": "stdout",
     "output_type": "stream",
     "text": [
      "(1382, 21) (346, 21) (1382, 4) (346, 4)\n"
     ]
    }
   ],
   "source": [
    "print(X_train_hot.shape,\n",
    "X_test_hot.shape,\n",
    "y_train_hot.shape,\n",
    "y_test_hot.shape)"
   ]
  },
  {
   "cell_type": "code",
   "execution_count": 310,
   "metadata": {},
   "outputs": [],
   "source": [
    "clf = mlrose.NeuralNetwork(hidden_nodes = [150,150],\n",
    "                           activation = 'relu',\n",
    "                           algorithm = 'random_hill_climb',\n",
    "                           max_iters = 2000,\n",
    "                           bias = True,\n",
    "                           is_classifier = True,\n",
    "                           learning_rate = 0.0001,\n",
    "                           early_stopping = True,\n",
    "                           clip_max = 5,\n",
    "                           restarts = 0,\n",
    "                           max_attempts = 100,\n",
    "                           random_state = 1,\n",
    "                           curve = True)"
   ]
  },
  {
   "cell_type": "code",
   "execution_count": 311,
   "metadata": {},
   "outputs": [
    {
     "data": {
      "text/plain": [
       "NeuralNetwork(bias=True, clip_max=5, early_stopping=True,\n",
       "              hidden_nodes=[150, 150], is_classifier=True, learning_rate=0.0001,\n",
       "              max_iters=2000, mutation_prob=0.1, pop_size=200, restarts=0,\n",
       "              schedule=<mlrose.decay.GeomDecay object at 0x7fbd71829d30>)"
      ]
     },
     "execution_count": 311,
     "metadata": {},
     "output_type": "execute_result"
    }
   ],
   "source": [
    "clf.fit(X_train_hot, y_train_hot)"
   ]
  },
  {
   "cell_type": "code",
   "execution_count": 312,
   "metadata": {},
   "outputs": [
    {
     "data": {
      "text/plain": [
       "<matplotlib.legend.Legend at 0x7fbd60777c50>"
      ]
     },
     "execution_count": 312,
     "metadata": {},
     "output_type": "execute_result"
    },
    {
     "data": {
      "image/png": "[encoded data removed]",
      "text/plain": [
       "<Figure size 432x288 with 1 Axes>"
      ]
     },
     "metadata": {
      "needs_background": "light"
     },
     "output_type": "display_data"
    }
   ],
   "source": [
    "plt.title(\"Fitness Curve\")\n",
    "plt.xlabel(\"Iteration\")\n",
    "plt.ylabel(\"Fitness\")\n",
    "plt.plot(range(len(clf.fitness_curve)), \n",
    "         clf.fitness_curve, \n",
    "         label=\"Random Hill Climb\")\n",
    "#plt.plot(range(len(sa_curve)), sa_curve, label=\"Simulated Annealing\")\n",
    "#plt.plot(range(len(ga_curve)), ga_curve, label=\"Genetic Algorithm\")\n",
    "#plt.plot(range(len(mm_curve)), mm_curve, label=\"MIMIC\")\n",
    "plt.legend(loc='best')"
   ]
  },
  {
   "cell_type": "code",
   "execution_count": 313,
   "metadata": {},
   "outputs": [],
   "source": [
    "y_train_pred = clf.predict(X_train_hot)\n",
    "y_test_pred = clf.predict(X_test_hot)"
   ]
  },
  {
   "cell_type": "code",
   "execution_count": 314,
   "metadata": {},
   "outputs": [
    {
     "name": "stdout",
     "output_type": "stream",
     "text": [
      "0.02915234653251346\n",
      "0.022157313435201123\n"
     ]
    }
   ],
   "source": [
    "print(metrics.matthews_corrcoef(y_train_hot.argmax(axis=1),\n",
    "                                y_train_pred.argmax(axis=1)))\n",
    "\n",
    "print(metrics.matthews_corrcoef(y_test_hot.argmax(axis=1),\n",
    "                                y_test_pred.argmax(axis=1)))"
   ]
  },
  {
   "cell_type": "code",
   "execution_count": 172,
   "metadata": {},
   "outputs": [],
   "source": [
    "clf = mlrose.NeuralNetwork(hidden_nodes = [150,150],\n",
    "                           activation = 'relu',\n",
    "                           algorithm = 'random_hill_climb',\n",
    "                           max_iters = 2000,\n",
    "                           bias = False,\n",
    "                           is_classifier = True,\n",
    "                           learning_rate = 0.0001,\n",
    "                           early_stopping = True,\n",
    "                           clip_max = 10,\n",
    "                           restarts = 0,\n",
    "                           max_attempts = 500,\n",
    "                           random_state = 1,\n",
    "                           curve = True)"
   ]
  },
  {
   "cell_type": "code",
   "execution_count": 173,
   "metadata": {},
   "outputs": [
    {
     "data": {
      "text/plain": [
       "NeuralNetwork(bias=False, clip_max=10, early_stopping=True,\n",
       "              hidden_nodes=[150, 150], is_classifier=True, learning_rate=0.0001,\n",
       "              max_iters=2000, mutation_prob=0.1, pop_size=200, restarts=0,\n",
       "              schedule=<mlrose.decay.GeomDecay object at 0x7fbd71829d30>)"
      ]
     },
     "execution_count": 173,
     "metadata": {},
     "output_type": "execute_result"
    }
   ],
   "source": [
    "clf.fit(X_train_hot, y_train_hot)"
   ]
  },
  {
   "cell_type": "code",
   "execution_count": 174,
   "metadata": {},
   "outputs": [
    {
     "data": {
      "text/plain": [
       "<matplotlib.legend.Legend at 0x7fbd61270550>"
      ]
     },
     "execution_count": 174,
     "metadata": {},
     "output_type": "execute_result"
    },
    {
     "data": {
      "image/png": "[encoded data removed]",
      "text/plain": [
       "<Figure size 432x288 with 1 Axes>"
      ]
     },
     "metadata": {
      "needs_background": "light"
     },
     "output_type": "display_data"
    }
   ],
   "source": [
    "plt.title(\"Fitness Curve\")\n",
    "plt.xlabel(\"Iteration\")\n",
    "plt.ylabel(\"Fitness\")\n",
    "plt.plot(range(len(clf.fitness_curve)), \n",
    "         clf.fitness_curve, \n",
    "         label=\"Random Hill Climb\")\n",
    "#plt.plot(range(len(sa_curve)), sa_curve, label=\"Simulated Annealing\")\n",
    "#plt.plot(range(len(ga_curve)), ga_curve, label=\"Genetic Algorithm\")\n",
    "#plt.plot(range(len(mm_curve)), mm_curve, label=\"MIMIC\")\n",
    "plt.legend(loc='best')"
   ]
  },
  {
   "cell_type": "code",
   "execution_count": 175,
   "metadata": {},
   "outputs": [],
   "source": [
    "y_train_pred = clf.predict(X_train_hot)\n",
    "y_test_pred = clf.predict(X_test_hot)"
   ]
  },
  {
   "cell_type": "code",
   "execution_count": 176,
   "metadata": {},
   "outputs": [
    {
     "name": "stdout",
     "output_type": "stream",
     "text": [
      "-0.028417547866103593\n",
      "-0.03411362689722335\n"
     ]
    }
   ],
   "source": [
    "print(metrics.matthews_corrcoef(y_train_hot.argmax(axis=1),\n",
    "                                y_train_pred.argmax(axis=1)))\n",
    "\n",
    "print(metrics.matthews_corrcoef(y_test_hot.argmax(axis=1),\n",
    "                                y_test_pred.argmax(axis=1)))"
   ]
  },
  {
   "cell_type": "code",
   "execution_count": 349,
   "metadata": {},
   "outputs": [],
   "source": [
    "clf = mlrose.NeuralNetwork(hidden_nodes = [150,150],\n",
    "                           activation = 'relu',\n",
    "                           algorithm = 'random_hill_climb',\n",
    "                           max_iters = 10000,\n",
    "                           bias = False,\n",
    "                           is_classifier = True,\n",
    "                           learning_rate = 0.0001,\n",
    "                           early_stopping = True,\n",
    "                           clip_max = 0.01,\n",
    "                           restarts = 0,\n",
    "                           max_attempts = 1000,\n",
    "                           random_state = 1,\n",
    "                           curve = True)"
   ]
  },
  {
   "cell_type": "code",
   "execution_count": 350,
   "metadata": {},
   "outputs": [
    {
     "ename": "KeyboardInterrupt",
     "evalue": "",
     "output_type": "error",
     "traceback": [
      "\u001b[0;31m---------------------------------------------------------------------------\u001b[0m",
      "\u001b[0;31mKeyboardInterrupt\u001b[0m                         Traceback (most recent call last)",
      "\u001b[0;32m<ipython-input-350-afb6ba37d54f>\u001b[0m in \u001b[0;36m<module>\u001b[0;34m\u001b[0m\n\u001b[0;32m----> 1\u001b[0;31m \u001b[0mclf\u001b[0m\u001b[0;34m.\u001b[0m\u001b[0mfit\u001b[0m\u001b[0;34m(\u001b[0m\u001b[0mX_train_hot\u001b[0m\u001b[0;34m,\u001b[0m \u001b[0my_train_hot\u001b[0m\u001b[0;34m)\u001b[0m\u001b[0;34m\u001b[0m\u001b[0;34m\u001b[0m\u001b[0m\n\u001b[0m",
      "\u001b[0;32m/usr/local/lib/python3.6/dist-packages/mlrose/neural.py\u001b[0m in \u001b[0;36mfit\u001b[0;34m(self, X, y, init_weights)\u001b[0m\n\u001b[1;32m    550\u001b[0m                                           \u001b[0mmax_iters\u001b[0m\u001b[0;34m=\u001b[0m\u001b[0mself\u001b[0m\u001b[0;34m.\u001b[0m\u001b[0mmax_iters\u001b[0m\u001b[0;34m,\u001b[0m\u001b[0;34m\u001b[0m\u001b[0;34m\u001b[0m\u001b[0m\n\u001b[1;32m    551\u001b[0m                                           \u001b[0mrestarts\u001b[0m\u001b[0;34m=\u001b[0m\u001b[0;36m0\u001b[0m\u001b[0;34m,\u001b[0m \u001b[0minit_state\u001b[0m\u001b[0;34m=\u001b[0m\u001b[0minit_weights\u001b[0m\u001b[0;34m,\u001b[0m\u001b[0;34m\u001b[0m\u001b[0;34m\u001b[0m\u001b[0m\n\u001b[0;32m--> 552\u001b[0;31m                                           curve=self.curve)\n\u001b[0m\u001b[1;32m    553\u001b[0m                 \u001b[0;32melse\u001b[0m\u001b[0;34m:\u001b[0m\u001b[0;34m\u001b[0m\u001b[0;34m\u001b[0m\u001b[0m\n\u001b[1;32m    554\u001b[0m                     current_weights, current_loss = random_hill_climb(\n",
      "\u001b[0;32m/usr/local/lib/python3.6/dist-packages/mlrose/algorithms.py\u001b[0m in \u001b[0;36mrandom_hill_climb\u001b[0;34m(problem, max_attempts, max_iters, restarts, init_state, curve, random_state)\u001b[0m\n\u001b[1;32m    201\u001b[0m             \u001b[0;31m# move to that state and reset attempts counter\u001b[0m\u001b[0;34m\u001b[0m\u001b[0;34m\u001b[0m\u001b[0;34m\u001b[0m\u001b[0m\n\u001b[1;32m    202\u001b[0m             \u001b[0;32mif\u001b[0m \u001b[0mnext_fitness\u001b[0m \u001b[0;34m>\u001b[0m \u001b[0mproblem\u001b[0m\u001b[0;34m.\u001b[0m\u001b[0mget_fitness\u001b[0m\u001b[0;34m(\u001b[0m\u001b[0;34m)\u001b[0m\u001b[0;34m:\u001b[0m\u001b[0;34m\u001b[0m\u001b[0;34m\u001b[0m\u001b[0m\n\u001b[0;32m--> 203\u001b[0;31m                 \u001b[0mproblem\u001b[0m\u001b[0;34m.\u001b[0m\u001b[0mset_state\u001b[0m\u001b[0;34m(\u001b[0m\u001b[0mnext_state\u001b[0m\u001b[0;34m)\u001b[0m\u001b[0;34m\u001b[0m\u001b[0;34m\u001b[0m\u001b[0m\n\u001b[0m\u001b[1;32m    204\u001b[0m                 \u001b[0mattempts\u001b[0m \u001b[0;34m=\u001b[0m \u001b[0;36m0\u001b[0m\u001b[0;34m\u001b[0m\u001b[0;34m\u001b[0m\u001b[0m\n\u001b[1;32m    205\u001b[0m \u001b[0;34m\u001b[0m\u001b[0m\n",
      "\u001b[0;32m/usr/local/lib/python3.6/dist-packages/mlrose/opt_probs.py\u001b[0m in \u001b[0;36mset_state\u001b[0;34m(self, new_state)\u001b[0m\n\u001b[1;32m    222\u001b[0m \u001b[0;34m\u001b[0m\u001b[0m\n\u001b[1;32m    223\u001b[0m         \u001b[0mself\u001b[0m\u001b[0;34m.\u001b[0m\u001b[0mstate\u001b[0m \u001b[0;34m=\u001b[0m \u001b[0mnew_state\u001b[0m\u001b[0;34m\u001b[0m\u001b[0;34m\u001b[0m\u001b[0m\n\u001b[0;32m--> 224\u001b[0;31m         \u001b[0mself\u001b[0m\u001b[0;34m.\u001b[0m\u001b[0mfitness\u001b[0m \u001b[0;34m=\u001b[0m \u001b[0mself\u001b[0m\u001b[0;34m.\u001b[0m\u001b[0meval_fitness\u001b[0m\u001b[0;34m(\u001b[0m\u001b[0mself\u001b[0m\u001b[0;34m.\u001b[0m\u001b[0mstate\u001b[0m\u001b[0;34m)\u001b[0m\u001b[0;34m\u001b[0m\u001b[0;34m\u001b[0m\u001b[0m\n\u001b[0m\u001b[1;32m    225\u001b[0m \u001b[0;34m\u001b[0m\u001b[0m\n\u001b[1;32m    226\u001b[0m \u001b[0;34m\u001b[0m\u001b[0m\n",
      "\u001b[0;32m/usr/local/lib/python3.6/dist-packages/mlrose/opt_probs.py\u001b[0m in \u001b[0;36meval_fitness\u001b[0;34m(self, state)\u001b[0m\n\u001b[1;32m     96\u001b[0m             \u001b[0;32mraise\u001b[0m \u001b[0mException\u001b[0m\u001b[0;34m(\u001b[0m\u001b[0;34m\"state length must match problem length\"\u001b[0m\u001b[0;34m)\u001b[0m\u001b[0;34m\u001b[0m\u001b[0;34m\u001b[0m\u001b[0m\n\u001b[1;32m     97\u001b[0m \u001b[0;34m\u001b[0m\u001b[0m\n\u001b[0;32m---> 98\u001b[0;31m         \u001b[0mfitness\u001b[0m \u001b[0;34m=\u001b[0m \u001b[0mself\u001b[0m\u001b[0;34m.\u001b[0m\u001b[0mmaximize\u001b[0m\u001b[0;34m*\u001b[0m\u001b[0mself\u001b[0m\u001b[0;34m.\u001b[0m\u001b[0mfitness_fn\u001b[0m\u001b[0;34m.\u001b[0m\u001b[0mevaluate\u001b[0m\u001b[0;34m(\u001b[0m\u001b[0mstate\u001b[0m\u001b[0;34m)\u001b[0m\u001b[0;34m\u001b[0m\u001b[0;34m\u001b[0m\u001b[0m\n\u001b[0m\u001b[1;32m     99\u001b[0m \u001b[0;34m\u001b[0m\u001b[0m\n\u001b[1;32m    100\u001b[0m         \u001b[0;32mreturn\u001b[0m \u001b[0mfitness\u001b[0m\u001b[0;34m\u001b[0m\u001b[0;34m\u001b[0m\u001b[0m\n",
      "\u001b[0;32m/usr/local/lib/python3.6/dist-packages/mlrose/neural.py\u001b[0m in \u001b[0;36mevaluate\u001b[0;34m(self, state)\u001b[0m\n\u001b[1;32m    300\u001b[0m         \u001b[0;32mfor\u001b[0m \u001b[0mi\u001b[0m \u001b[0;32min\u001b[0m \u001b[0mrange\u001b[0m\u001b[0;34m(\u001b[0m\u001b[0mlen\u001b[0m\u001b[0;34m(\u001b[0m\u001b[0mself\u001b[0m\u001b[0;34m.\u001b[0m\u001b[0mweights\u001b[0m\u001b[0;34m)\u001b[0m\u001b[0;34m)\u001b[0m\u001b[0;34m:\u001b[0m\u001b[0;34m\u001b[0m\u001b[0;34m\u001b[0m\u001b[0m\n\u001b[1;32m    301\u001b[0m             \u001b[0;31m# Multiple inputs by weights\u001b[0m\u001b[0;34m\u001b[0m\u001b[0;34m\u001b[0m\u001b[0;34m\u001b[0m\u001b[0m\n\u001b[0;32m--> 302\u001b[0;31m             \u001b[0moutputs\u001b[0m \u001b[0;34m=\u001b[0m \u001b[0mnp\u001b[0m\u001b[0;34m.\u001b[0m\u001b[0mdot\u001b[0m\u001b[0;34m(\u001b[0m\u001b[0minputs\u001b[0m\u001b[0;34m,\u001b[0m \u001b[0mself\u001b[0m\u001b[0;34m.\u001b[0m\u001b[0mweights\u001b[0m\u001b[0;34m[\u001b[0m\u001b[0mi\u001b[0m\u001b[0;34m]\u001b[0m\u001b[0;34m)\u001b[0m\u001b[0;34m\u001b[0m\u001b[0;34m\u001b[0m\u001b[0m\n\u001b[0m\u001b[1;32m    303\u001b[0m             \u001b[0mself\u001b[0m\u001b[0;34m.\u001b[0m\u001b[0minputs_list\u001b[0m\u001b[0;34m.\u001b[0m\u001b[0mappend\u001b[0m\u001b[0;34m(\u001b[0m\u001b[0minputs\u001b[0m\u001b[0;34m)\u001b[0m\u001b[0;34m\u001b[0m\u001b[0;34m\u001b[0m\u001b[0m\n\u001b[1;32m    304\u001b[0m \u001b[0;34m\u001b[0m\u001b[0m\n",
      "\u001b[0;32m<__array_function__ internals>\u001b[0m in \u001b[0;36mdot\u001b[0;34m(*args, **kwargs)\u001b[0m\n",
      "\u001b[0;31mKeyboardInterrupt\u001b[0m: "
     ]
    }
   ],
   "source": [
    "clf.fit(X_train_hot, y_train_hot)"
   ]
  },
  {
   "cell_type": "code",
   "execution_count": 317,
   "metadata": {},
   "outputs": [
    {
     "data": {
      "text/plain": [
       "<matplotlib.legend.Legend at 0x7fbd606e4cf8>"
      ]
     },
     "execution_count": 317,
     "metadata": {},
     "output_type": "execute_result"
    },
    {
     "data": {
      "image/png": "[encoded data removed]",
      "text/plain": [
       "<Figure size 432x288 with 1 Axes>"
      ]
     },
     "metadata": {
      "needs_background": "light"
     },
     "output_type": "display_data"
    }
   ],
   "source": [
    "plt.title(\"Fitness Curve\")\n",
    "plt.xlabel(\"Iteration\")\n",
    "plt.ylabel(\"Fitness\")\n",
    "plt.plot(range(len(clf.fitness_curve)), \n",
    "         clf.fitness_curve, \n",
    "         label=\"Random Hill Climb\")\n",
    "#plt.plot(range(len(sa_curve)), sa_curve, label=\"Simulated Annealing\")\n",
    "#plt.plot(range(len(ga_curve)), ga_curve, label=\"Genetic Algorithm\")\n",
    "#plt.plot(range(len(mm_curve)), mm_curve, label=\"MIMIC\")\n",
    "plt.legend(loc='best')"
   ]
  },
  {
   "cell_type": "code",
   "execution_count": 318,
   "metadata": {},
   "outputs": [],
   "source": [
    "y_train_pred = clf.predict(X_train_hot)\n",
    "y_test_pred = clf.predict(X_test_hot)"
   ]
  },
  {
   "cell_type": "code",
   "execution_count": 319,
   "metadata": {},
   "outputs": [
    {
     "name": "stdout",
     "output_type": "stream",
     "text": [
      "0.918716789446894\n",
      "0.709548235163425\n"
     ]
    }
   ],
   "source": [
    "print(metrics.matthews_corrcoef(y_train_hot.argmax(axis=1),\n",
    "                                y_train_pred.argmax(axis=1)))\n",
    "\n",
    "print(metrics.matthews_corrcoef(y_test_hot.argmax(axis=1),\n",
    "                                y_test_pred.argmax(axis=1)))"
   ]
  },
  {
   "cell_type": "code",
   "execution_count": 344,
   "metadata": {},
   "outputs": [],
   "source": [
    "# Learning Curve\n",
    "train_sizes= [0.1, 0.2, 0.4, 0.6, 0.8]\n",
    "\n",
    "clf = mlrose.NeuralNetwork(hidden_nodes = [150,150],\n",
    "                           activation = 'relu',\n",
    "                           algorithm = 'random_hill_climb',\n",
    "                           max_iters = 10000,\n",
    "                           bias = False,\n",
    "                           is_classifier = True,\n",
    "                           learning_rate = 0.0001,\n",
    "                           early_stopping = True,\n",
    "                           clip_max = 0.01,\n",
    "                           restarts = 0,\n",
    "                           max_attempts = 1000,\n",
    "                           random_state = 1,\n",
    "                           curve = False)\n",
    "\n",
    "train_scores = []\n",
    "test_scores = []\n",
    "for x in train_sizes:\n",
    "    X_train_lc, X_test_lc, y_train_lc, y_test_lc = train_test_split(X_train_hot,\n",
    "                                                                    y_train_hot,\n",
    "                                                                    test_size=0.2,\n",
    "                                                                    train_size=x,\n",
    "                                                                    random_state = 1)\n",
    "    clf.fit(X_train_lc, y_train_lc)\n",
    "    y_train_pred = clf.predict(X_train_lc)\n",
    "    y_test_pred = clf.predict(X_test_lc)\n",
    "    train_scores.append(metrics.matthews_corrcoef(y_train_lc.argmax(axis=1),\n",
    "                                                  y_train_pred.argmax(axis=1)))\n",
    "\n",
    "    test_scores.append(metrics.matthews_corrcoef(y_test_lc.argmax(axis=1),\n",
    "                                                 y_test_pred.argmax(axis=1)))"
   ]
  },
  {
   "cell_type": "code",
   "execution_count": 345,
   "metadata": {},
   "outputs": [],
   "source": [
    "train_amount = [x * X_train_hot.shape[0] for x in train_sizes]"
   ]
  },
  {
   "cell_type": "code",
   "execution_count": 346,
   "metadata": {},
   "outputs": [
    {
     "data": {
      "text/plain": [
       "<matplotlib.legend.Legend at 0x7fbd6050bc88>"
      ]
     },
     "execution_count": 346,
     "metadata": {},
     "output_type": "execute_result"
    },
    {
     "data": {
      "image/png": "[encoded data removed]",
      "text/plain": [
       "<Figure size 432x288 with 1 Axes>"
      ]
     },
     "metadata": {
      "needs_background": "light"
     },
     "output_type": "display_data"
    }
   ],
   "source": [
    "plt.title(\"CARS NN Learning Curves\")\n",
    "plt.xlabel(\"Training Size\")\n",
    "plt.ylabel(\"MCC\")\n",
    "plt.plot(train_amount, train_scores, label=\"Train\")\n",
    "plt.plot(train_amount, test_scores, label=\"Test\")\n",
    "plt.legend(loc='best')"
   ]
  },
  {
   "cell_type": "code",
   "execution_count": 351,
   "metadata": {},
   "outputs": [],
   "source": [
    "clf = mlrose.NeuralNetwork(hidden_nodes = [150,150],\n",
    "                           activation = 'relu',\n",
    "                           algorithm = 'random_hill_climb',\n",
    "                           max_iters = 10000,\n",
    "                           bias = False,\n",
    "                           is_classifier = True,\n",
    "                           learning_rate = 0.001,\n",
    "                           early_stopping = True,\n",
    "                           clip_max = 0.01,\n",
    "                           restarts = 0,\n",
    "                           max_attempts = 1000,\n",
    "                           random_state = 1,\n",
    "                           curve = True)"
   ]
  },
  {
   "cell_type": "code",
   "execution_count": 352,
   "metadata": {},
   "outputs": [
    {
     "data": {
      "text/plain": [
       "NeuralNetwork(bias=False, clip_max=0.01, early_stopping=True,\n",
       "              hidden_nodes=[150, 150], is_classifier=True, learning_rate=0.001,\n",
       "              max_iters=10000, mutation_prob=0.1, pop_size=200, restarts=0,\n",
       "              schedule=<mlrose.decay.GeomDecay object at 0x7fbd71829d30>)"
      ]
     },
     "execution_count": 352,
     "metadata": {},
     "output_type": "execute_result"
    }
   ],
   "source": [
    "clf.fit(X_train_hot, y_train_hot)"
   ]
  },
  {
   "cell_type": "code",
   "execution_count": 353,
   "metadata": {},
   "outputs": [
    {
     "data": {
      "text/plain": [
       "<matplotlib.legend.Legend at 0x7fbd6048abe0>"
      ]
     },
     "execution_count": 353,
     "metadata": {},
     "output_type": "execute_result"
    },
    {
     "data": {
      "image/png": "[encoded data removed]",
      "text/plain": [
       "<Figure size 432x288 with 1 Axes>"
      ]
     },
     "metadata": {
      "needs_background": "light"
     },
     "output_type": "display_data"
    }
   ],
   "source": [
    "plt.title(\"Fitness Curve\")\n",
    "plt.xlabel(\"Iteration\")\n",
    "plt.ylabel(\"Fitness\")\n",
    "plt.plot(range(len(clf.fitness_curve)), \n",
    "         clf.fitness_curve, \n",
    "         label=\"Random Hill Climb\")\n",
    "#plt.plot(range(len(sa_curve)), sa_curve, label=\"Simulated Annealing\")\n",
    "#plt.plot(range(len(ga_curve)), ga_curve, label=\"Genetic Algorithm\")\n",
    "#plt.plot(range(len(mm_curve)), mm_curve, label=\"MIMIC\")\n",
    "plt.legend(loc='best')"
   ]
  },
  {
   "cell_type": "code",
   "execution_count": 354,
   "metadata": {},
   "outputs": [],
   "source": [
    "y_train_pred = clf.predict(X_train_hot)\n",
    "y_test_pred = clf.predict(X_test_hot)"
   ]
  },
  {
   "cell_type": "code",
   "execution_count": 355,
   "metadata": {},
   "outputs": [
    {
     "name": "stdout",
     "output_type": "stream",
     "text": [
      "0.9152086260521586\n",
      "0.7163347349970164\n"
     ]
    }
   ],
   "source": [
    "print(metrics.matthews_corrcoef(y_train_hot.argmax(axis=1),\n",
    "                                y_train_pred.argmax(axis=1)))\n",
    "\n",
    "print(metrics.matthews_corrcoef(y_test_hot.argmax(axis=1),\n",
    "                                y_test_pred.argmax(axis=1)))"
   ]
  },
  {
   "cell_type": "code",
   "execution_count": 344,
   "metadata": {},
   "outputs": [],
   "source": [
    "# Learning Curve\n",
    "train_sizes= [0.1, 0.2, 0.4, 0.6, 0.8]\n",
    "\n",
    "clf = mlrose.NeuralNetwork(hidden_nodes = [150,150],\n",
    "                           activation = 'relu',\n",
    "                           algorithm = 'random_hill_climb',\n",
    "                           max_iters = 10000,\n",
    "                           bias = False,\n",
    "                           is_classifier = True,\n",
    "                           learning_rate = 0.0001,\n",
    "                           early_stopping = True,\n",
    "                           clip_max = 0.01,\n",
    "                           restarts = 0,\n",
    "                           max_attempts = 1000,\n",
    "                           random_state = 1,\n",
    "                           curve = False)\n",
    "\n",
    "train_scores = []\n",
    "test_scores = []\n",
    "for x in train_sizes:\n",
    "    X_train_lc, X_test_lc, y_train_lc, y_test_lc = train_test_split(X_train_hot,\n",
    "                                                                    y_train_hot,\n",
    "                                                                    test_size=0.2,\n",
    "                                                                    train_size=x,\n",
    "                                                                    random_state = 1)\n",
    "    clf.fit(X_train_lc, y_train_lc)\n",
    "    y_train_pred = clf.predict(X_train_lc)\n",
    "    y_test_pred = clf.predict(X_test_lc)\n",
    "    train_scores.append(metrics.matthews_corrcoef(y_train_lc.argmax(axis=1),\n",
    "                                                  y_train_pred.argmax(axis=1)))\n",
    "\n",
    "    test_scores.append(metrics.matthews_corrcoef(y_test_lc.argmax(axis=1),\n",
    "                                                 y_test_pred.argmax(axis=1)))"
   ]
  },
  {
   "cell_type": "code",
   "execution_count": 345,
   "metadata": {},
   "outputs": [],
   "source": [
    "train_amount = [x * X_train_hot.shape[0] for x in train_sizes]"
   ]
  },
  {
   "cell_type": "code",
   "execution_count": 346,
   "metadata": {},
   "outputs": [
    {
     "data": {
      "text/plain": [
       "<matplotlib.legend.Legend at 0x7fbd6050bc88>"
      ]
     },
     "execution_count": 346,
     "metadata": {},
     "output_type": "execute_result"
    },
    {
     "data": {
      "image/png": "[encoded data removed]",
      "text/plain": [
       "<Figure size 432x288 with 1 Axes>"
      ]
     },
     "metadata": {
      "needs_background": "light"
     },
     "output_type": "display_data"
    }
   ],
   "source": [
    "plt.title(\"CARS NN Learning Curves\")\n",
    "plt.xlabel(\"Training Size\")\n",
    "plt.ylabel(\"MCC\")\n",
    "plt.plot(train_amount, train_scores, label=\"Train\")\n",
    "plt.plot(train_amount, test_scores, label=\"Test\")\n",
    "plt.legend(loc='best')"
   ]
  },
  {
   "cell_type": "code",
   "execution_count": 356,
   "metadata": {},
   "outputs": [],
   "source": [
    "clf = mlrose.NeuralNetwork(hidden_nodes = [150,150],\n",
    "                           activation = 'relu',\n",
    "                           algorithm = 'random_hill_climb',\n",
    "                           max_iters = 10000,\n",
    "                           bias = False,\n",
    "                           is_classifier = True,\n",
    "                           learning_rate = 0.001,\n",
    "                           early_stopping = True,\n",
    "                           clip_max = 0.01,\n",
    "                           restarts = 50,\n",
    "                           max_attempts = 1000,\n",
    "                           random_state = 1,\n",
    "                           curve = True)"
   ]
  },
  {
   "cell_type": "code",
   "execution_count": null,
   "metadata": {},
   "outputs": [],
   "source": [
    "clf.fit(X_train_hot, y_train_hot)"
   ]
  },
  {
   "cell_type": "code",
   "execution_count": 354,
   "metadata": {},
   "outputs": [],
   "source": [
    "y_train_pred = clf.predict(X_train_hot)\n",
    "y_test_pred = clf.predict(X_test_hot)"
   ]
  },
  {
   "cell_type": "code",
   "execution_count": 355,
   "metadata": {},
   "outputs": [
    {
     "name": "stdout",
     "output_type": "stream",
     "text": [
      "0.9152086260521586\n",
      "0.7163347349970164\n"
     ]
    }
   ],
   "source": [
    "print(metrics.matthews_corrcoef(y_train_hot.argmax(axis=1),\n",
    "                                y_train_pred.argmax(axis=1)))\n",
    "\n",
    "print(metrics.matthews_corrcoef(y_test_hot.argmax(axis=1),\n",
    "                                y_test_pred.argmax(axis=1)))"
   ]
  },
  {
   "cell_type": "code",
   "execution_count": null,
   "metadata": {},
   "outputs": [],
   "source": []
  }
 ],
 "metadata": {
  "kernelspec": {
   "display_name": "Python 3",
   "language": "python",
   "name": "python3"
  },
  "language_info": {
   "codemirror_mode": {
    "name": "ipython",
    "version": 3
   },
   "file_extension": ".py",
   "mimetype": "text/x-python",
   "name": "python",
   "nbconvert_exporter": "python",
   "pygments_lexer": "ipython3",
   "version": "3.6.9"
  }
 },
 "nbformat": 4,
 "nbformat_minor": 4
}
